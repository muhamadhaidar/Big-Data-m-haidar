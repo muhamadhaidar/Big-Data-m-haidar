{
  "cells": [
    {
      "cell_type": "code",
      "execution_count": null,
      "metadata": {
        "colab": {
          "base_uri": "https://localhost:8080/"
        },
        "id": "6gztHr4IrUDe",
        "outputId": "24aba25e-1320-43bd-d945-ea420dc1857c"
      },
      "outputs": [
        {
          "name": "stdout",
          "output_type": "stream",
          "text": [
            "Requirement already satisfied: pyspark in /usr/local/lib/python3.11/dist-packages (3.5.5)\n",
            "Requirement already satisfied: py4j==0.10.9.7 in /usr/local/lib/python3.11/dist-packages (from pyspark) (0.10.9.7)\n"
          ]
        }
      ],
      "source": [
        "pip install pyspark"
      ]
    },
    {
      "cell_type": "markdown",
      "metadata": {},
      "source": []
    },
    {
      "cell_type": "code",
      "execution_count": 4,
      "metadata": {
        "id": "Scb4KvUkrdHE"
      },
      "outputs": [],
      "source": [
        "from pyspark.sql import SparkSession\n",
        "\n",
        "spark = SparkSession.builder.appName(\"Assignment\").getOrCreate()"
      ]
    },
    {
      "cell_type": "code",
      "execution_count": 5,
      "metadata": {
        "colab": {
          "base_uri": "https://localhost:8080/"
        },
        "id": "VGBkzrzsr7VI",
        "outputId": "7ee003a4-b378-4796-a9fb-4fa57a3a3350"
      },
      "outputs": [
        {
          "name": "stdout",
          "output_type": "stream",
          "text": [
            "+-------+--------------------+-----+----------+-----------------+----------+---------------+\n",
            "|   Nama|               Email| Umur|Pendapatan|Tanggal Pembelian|    Produk|Nilai Transaksi|\n",
            "+-------+--------------------+-----+----------+-----------------+----------+---------------+\n",
            "|Anthony|   dawnday@gmail.com| 24.0|   3553265|       01/13/1974|    Laptop|        2736049|\n",
            "| Robert|    pbrown@gmail.com| NULL|   5525753|       03-05-2004|    Tablet|        4996241|\n",
            "|Melissa| ethan99@clayton.com| NULL|   4911936|       28-04-1970|  Handpone|        3169456|\n",
            "|Timothy|johnsonmegan@gmai...|200.0|3140485039|       03/09/2003|    Laptop|         506622|\n",
            "|  Kelly|keithwebster(at)e...|200.0|3833611071|       17-01-2022|   Tablett|        9969204|\n",
            "|  Jared| qwiggins@hodges.com| 69.0|   8024480|       02-01-2005|   Tablett|        3093351|\n",
            "| Nicole|ogonzalez@hotmail...|200.0|4286346096|       08-01-2024| Handphone|        3007158|\n",
            "|  Mason|lisasmith@hotmail...| NULL|   9858877|       10/12/1994|Smartwatch|        4734266|\n",
            "| Pamela|megancosta@yahoo.com| 39.0|4743642660|       16-08-2011|    Laptop|        8043250|\n",
            "|  Chloe|kelligonzalez@hot...| NULL|3214144288|       10-02-2008| Smartwach|        7845719|\n",
            "+-------+--------------------+-----+----------+-----------------+----------+---------------+\n",
            "only showing top 10 rows\n",
            "\n"
          ]
        }
      ],
      "source": [
        "df = spark.read.csv('/content/dataset', header=True, inferSchema=True)\n",
        "df.show(10)"
      ]
    },
    {
      "cell_type": "code",
      "execution_count": 8,
      "metadata": {
        "colab": {
          "base_uri": "https://localhost:8080/"
        },
        "id": "HLMpvBVhud1z",
        "outputId": "2d26f789-72cc-4859-e035-7376cf1ca1ee"
      },
      "outputs": [
        {
          "name": "stdout",
          "output_type": "stream",
          "text": [
            "root\n",
            " |-- Nama: string (nullable = true)\n",
            " |-- Email: string (nullable = true)\n",
            " |-- Umur: double (nullable = true)\n",
            " |-- Pendapatan: long (nullable = true)\n",
            " |-- Tanggal Pembelian: string (nullable = true)\n",
            " |-- Produk: string (nullable = true)\n",
            " |-- Nilai Transaksi: integer (nullable = true)\n",
            "\n",
            "+-------+------+-------------------+------------------+--------------------+-----------------+---------+------------------+\n",
            "|summary|  Nama|              Email|              Umur|          Pendapatan|Tanggal Pembelian|   Produk|   Nilai Transaksi|\n",
            "+-------+------+-------------------+------------------+--------------------+-----------------+---------+------------------+\n",
            "|  count|   100|                100|                68|                 100|              100|      100|               100|\n",
            "|   mean|  NULL|               NULL|111.86764705882354|     1.65132351882E9|             NULL|     NULL|        5556026.09|\n",
            "| stddev|  NULL|               NULL| 77.42110175763524|1.8103144429023266E9|             NULL|     NULL|2594395.9001886775|\n",
            "|    min| Aaron|allison19@yahoo.com|              19.0|             3052819|       01-12-2023|Handphone|            506622|\n",
            "|    max|Walter|  ztodd@hotmail.com|             200.0|          4974434132|       31-12-1972|  Tablett|           9969204|\n",
            "+-------+------+-------------------+------------------+--------------------+-----------------+---------+------------------+\n",
            "\n"
          ]
        },
        {
          "data": {
            "text/plain": [
              "['Nama',\n",
              " 'Email',\n",
              " 'Umur',\n",
              " 'Pendapatan',\n",
              " 'Tanggal Pembelian',\n",
              " 'Produk',\n",
              " 'Nilai Transaksi']"
            ]
          },
          "execution_count": 8,
          "metadata": {},
          "output_type": "execute_result"
        }
      ],
      "source": [
        "df.printSchema()\n",
        "df.describe().show()\n",
        "df.columns"
      ]
    },
    {
      "cell_type": "code",
      "execution_count": 9,
      "metadata": {
        "colab": {
          "base_uri": "https://localhost:8080/"
        },
        "id": "KazAc_5EugMd",
        "outputId": "4ce9b7d3-ef0c-4d55-e7d2-4e8f154935d4"
      },
      "outputs": [
        {
          "name": "stdout",
          "output_type": "stream",
          "text": [
            "+----------+--------------------+----+----------+-----------------+----------+---------------+\n",
            "|      Nama|               Email|umur|Pendapatan|Tanggal Pembelian|    Produk|Nilai Transaksi|\n",
            "+----------+--------------------+----+----------+-----------------+----------+---------------+\n",
            "|   Timothy|johnsonmegan@gmai...| 200|3140485039|       03/09/2003|    Laptop|         506622|\n",
            "|      Mike|owensrobert@hotma...|  59|3741985672|       11/28/2004|    Laptop|        7711290|\n",
            "|  Madeline|martinezmario@gma...| 200|3200189219|       12/05/1979|Smartwatch|        1908029|\n",
            "|   Raymond|santiagoscott(at)...| 200|2866365700|       07/18/1993|Smartwatch|        6530558|\n",
            "|  Benjamin|brittanygreen@mar...| 200|4075982395|       17-02-1982|    Tablet|        9067792|\n",
            "|    Leslie|maysannette@gmail...| 200|   8372468|       09/13/1981|Smartwatch|        4957082|\n",
            "|   Cynthia|lonnieandrews@cis...|  49|   5139026|       02/10/2000|   Tablett|        2393089|\n",
            "|    Debbie| allison19@yahoo.com|  41|4974434132|       24-04-1982|Headphonee|        7488725|\n",
            "|    Rachel|jjenkins@osborne....|  66|   6422484|       02-08-1993| Smartwach|        5974942|\n",
            "|      Sean|ronald86(at)email...|  43|   7309258|       09/21/2020|    Laptop|        6997815|\n",
            "|    Amanda|melissa50@hotmail...|  45|   4765981|       13-06-2014|Smartwatch|        2110772|\n",
            "|    Robert| jason16@hotmail.com|  31|   6167831|       05/31/1972| Handphone|        4166003|\n",
            "|       Roy|    psmith@gmail.com| 200|   7372475|       02/10/1994|Headphonee|         808089|\n",
            "|     James|angela86@hernande...|  21|1750047896|       07/07/1970|    Laptop|        8695785|\n",
            "|     April|danny11@ruiz-mart...| 200|4947285884|       08/31/1978|  Handpone|        6617945|\n",
            "|    Robert|hinessamantha@gma...| 200|4906271009|       21-12-2000| Handphone|        3938680|\n",
            "|     Aaron|scottjacqueline@l...|  49|3087774620|       08/20/1983|    Laptop|        6703858|\n",
            "|    Sydney|thomaskrause@mart...|  24|4306503420|       02-10-2012|  Handpone|        6225011|\n",
            "|   Annette|omendez@estes-rey...| 200|2519948005|       16-03-2003|    Laptop|        5734109|\n",
            "|      Jose|lindseycollins(at...| 200|4718948795|       07/07/2021|Smartwatch|        6713101|\n",
            "|    Lauren|michaelsharp@clar...|  26|3607884820|       11/13/2019|    Laptop|        6547810|\n",
            "|     Sheri|arnoldbrett@selle...|  29|2488026821|       08/13/1975| Headphone|        3068588|\n",
            "|    Jeanne|    elewis@gmail.com| 200|1343883642|       17-06-2004| Handphone|        8598980|\n",
            "|    Morgan|richardsonjonatho...|  68|1529920627|       11/10/2009|    Tablet|        7892866|\n",
            "|     Craig|austinbaldwin@hot...|  36|   3052819|       13-08-2022|Smartwatch|        8981630|\n",
            "|   Madison|wilkinsjuan(at)em...| 200|2966985661|       07/28/1974|    Laptop|        1363964|\n",
            "|    Nicole|ogonzalez@hotmail...| 200|4286346096|       08-01-2024| Handphone|        3007158|\n",
            "|    Walter|    sara87@gmail.com|  19|   9751624|       11/07/2015| Handphone|        7111386|\n",
            "|   Michael|stuartvasquez(at)...| 200|   4972260|       21-12-2005| Handphone|        1991110|\n",
            "|     Bryan|williamsanthony@y...|  65|2091586467|       24-12-1988| Headphone|        9385903|\n",
            "| Elizabeth|tylerfinley@yahoo...|  37|   9120819|       02/18/2015|  Handpone|        6390568|\n",
            "|     Bobby|isimpson@brown-se...|  69|3154243087|       02/17/1997|    Tablet|        8673469|\n",
            "|     Linda|emily21@mcmillan.org| 200|   6917560|       17-06-2010| Handphone|        6841653|\n",
            "|   Shannon|cesardoyle(at)ema...|  48|   7502984|       14-04-2022|Smartwatch|        8353152|\n",
            "|      Rita|osbornejulie@gmai...|  46|   4801131|       01/03/2009| Headphone|        4287524|\n",
            "| Gabrielle|xhinton@murphy-no...| 200|1248444734|       31-12-1972|    Tablet|        3811149|\n",
            "|    Pamela|megancosta@yahoo.com|  39|4743642660|       16-08-2011|    Laptop|        8043250|\n",
            "|     Amber|michaelarmstrong@...|  41|   4764594|       15-12-1976| Headphone|        3312777|\n",
            "|     Peter|fordwilliam@ellio...|  49|   5655666|       12/21/1981|    Laptop|        9968161|\n",
            "|   Matthew|jessicahall@yahoo...|  32|3359452666|       05/22/2000| Headphone|        7317635|\n",
            "|    Shelly|johngoodwin@perry...|  65|1503571524|       06/21/2002|  Handpone|        2021118|\n",
            "|   Roberta| brendan46@yahoo.com| 200|   7416386|       29-03-1988| Headphone|        8769501|\n",
            "|     David|stevenslisa@yahoo...| 200|4807875599|       06/03/2002|    Tablet|        7168803|\n",
            "|    Daniel|   jsmith@meyer.info|  63|   8029197|       09/07/1988| Handphone|        3359641|\n",
            "|     Laura|   lbailey@gmail.com| 200|   7864052|       05/01/2013|Smartwatch|        7965415|\n",
            "|    Calvin| andre49@hotmail.com|  40|2575808578|       08/29/1973|Smartwatch|        2496871|\n",
            "|   Monique|   hthomas@moore.com| 200|   5478040|       06/22/1994|    Laptop|        8598229|\n",
            "|     Bryan|guerreronicolas@h...|  49|   6816341|       02/19/1993| Handphone|        8766162|\n",
            "|     Marie|blackgeorge@gmail...| 200|1195009287|       25-11-2002|Smartwatch|        7214956|\n",
            "|   Heather|dlandry(at)email.com|  57|   9980884|       01/20/1986|  Handpone|        7553960|\n",
            "|   Anthony|   dawnday@gmail.com|  24|   3553265|       01/13/1974|    Laptop|        2736049|\n",
            "|   Rebecca| linlaurie@yahoo.com|  34|2454478778|       10/05/1971|    Tablet|        2256555|\n",
            "|     Donna|  glennlisa@york.com| 200|4528149018|       31-07-1997|   Tablett|        7512480|\n",
            "|     Kelly|keithwebster(at)e...| 200|3833611071|       17-01-2022|   Tablett|        9969204|\n",
            "|     James| john19(at)email.com|  42|3457646809|       06/10/1993| Smartwach|        3305087|\n",
            "|   Matthew|davidwilliams@bro...|  70|1185314610|       27-11-2014|  Handpone|        6017027|\n",
            "|      Anna| timothy21@gmail.com| 200|   5214212|       08-12-2013|   Tablett|        7335193|\n",
            "|      Tara| amanda77@stuart.com|  37|3417336527|       22-10-1989| Headphone|        6370142|\n",
            "|   Patrick|zthompson@hotmail...|  59|   6705425|       01-12-2023|    Laptop|        9079604|\n",
            "|    Daniel|ashley01@lawrence...| 200|1528821152|       23-12-1982| Smartwach|        6175588|\n",
            "|   Russell|wilsonscott@shaw-...| 200|   4234505|       11/16/1977|Smartwatch|        2841013|\n",
            "|    Jeremy|steelesylvia@case...|  63|3349757081|       14-12-1995|    Laptop|        7855360|\n",
            "|    Thomas|michelefernandez@...|  36|   7748933|       08/03/2005| Handphone|        2826983|\n",
            "|     Jared| qwiggins@hodges.com|  69|   8024480|       02-01-2005|   Tablett|        3093351|\n",
            "|    Joanna|   pwalker@gmail.com|  67|   5748244|       11/19/2010| Handphone|        3906783|\n",
            "|  Michelle|      jcox@yahoo.com| 200|4713277993|       10/14/1979|  Handpone|        2693153|\n",
            "|     Amber|angelagibson@hotm...| 200|   9749419|       13-12-2005| Headphone|        6831668|\n",
            "|    Miguel| jenny18@hotmail.com| 200|3894244179|       22-10-1974|    Tablet|        2277467|\n",
            "|   Michele|beckerbrian@gmail...|NULL|1060198903|       15-05-1981|Smartwatch|        9599456|\n",
            "|Jacqueline|brianwilliams@yah...|NULL|   6815157|       07/15/2000|Headphonee|        1927889|\n",
            "|    Nicole|thomasglenn@mcgee...|NULL|2112943218|       11/04/2013| Handphone|        7012470|\n",
            "|     David|ronaldlittle@gmai...|NULL|   5704489|       10-12-1986|  Handpone|        4855839|\n",
            "|    Austin|vmcfarland@gmail.com|NULL|   6296875|       01/21/1997|  Handpone|        9674590|\n",
            "|    Rachel|april12@johnson-a...|NULL|   9807127|       20-10-2008| Handphone|        9309655|\n",
            "|   Michael|    hsmall@davis.com|NULL|   8446324|       02/10/1997| Smartwach|        5201587|\n",
            "|      Dawn|  tcabrera@gmail.com|NULL|   7719787|       10-03-1975| Handphone|        5082350|\n",
            "|      Gail|    nshort@yahoo.com|NULL|   7061317|       15-07-1972| Headphone|        8679926|\n",
            "|      Lisa|baileyvickie@hotm...|NULL|   3359174|       08/17/1993| Headphone|        3423186|\n",
            "|     Chloe|kelligonzalez@hot...|NULL|3214144288|       10-02-2008| Smartwach|        7845719|\n",
            "|   Christy|courtneybrown(at)...|NULL|   6287329|       02/03/2019| Headphone|        7335789|\n",
            "|    Alexis|     dgray@gmail.com|NULL|3451537216|       06-07-2004|    Laptop|        6028244|\n",
            "|Jacqueline| webbcraig@gmail.com|NULL|4703381979|       08/02/2019|Smartwatch|        1452972|\n",
            "|     Lucas|loganhoward@gmail...|NULL|   9156739|       02/03/2020|Smartwatch|        1457124|\n",
            "|   Melissa| ethan99@clayton.com|NULL|   4911936|       28-04-1970|  Handpone|        3169456|\n",
            "|     Scott|theresahardin@hot...|NULL|   6761104|       01/07/1992|  Handpone|        2968229|\n",
            "|     April|   ztodd@hotmail.com|NULL|4802733311|       28-01-1981|Smartwatch|        6744114|\n",
            "|   Anthony|     ulee@grant.info|NULL|4295054984|       07/25/1992|    Laptop|        5530638|\n",
            "|     Mason|lisasmith@hotmail...|NULL|   9858877|       10/12/1994|Smartwatch|        4734266|\n",
            "| Stephanie|flin@hicks-craig.com|NULL|4214307534|       21-10-1974|Headphonee|        5047580|\n",
            "|      Paul|anthony46@rodgers...|NULL|2623589294|       10/03/1986| Smartwach|        6878071|\n",
            "|      Eric|younglinda@yahoo.com|NULL|   3581203|       26-02-1972|    Laptop|         650743|\n",
            "|   Michael|   donna21@yahoo.com|NULL|1718641775|       24-02-1992| Headphone|        1105811|\n",
            "|    Sandra|williamslaura@san...|NULL|4043685930|       20-06-2013|  Handpone|        2160812|\n",
            "|     Linda|dianagentry@gmail...|NULL|   4695914|       10/24/2001|    Tablet|        8250750|\n",
            "| Christine|ashley06@ruiz-ham...|NULL|   3417814|       17-03-1984| Handphone|        3559828|\n",
            "| Elizabeth|    umills@yahoo.com|NULL|3569264004|       12/07/1984|    Laptop|        7452676|\n",
            "|    Walter|chapmanalexander@...|NULL|   7890477|       26-02-2011|    Laptop|        4336671|\n",
            "|    Teresa|smendoza@williams...|NULL|1753146262|       03-12-1996| Handphone|        5672796|\n",
            "|    Robert|    pbrown@gmail.com|NULL|   5525753|       03-05-2004|    Tablet|        4996241|\n",
            "|    Angela|bmcmahon@hotmail.com|NULL|1752232152|       07/08/2024|   Tablett|        6261738|\n",
            "+----------+--------------------+----+----------+-----------------+----------+---------------+\n",
            "\n"
          ]
        }
      ],
      "source": [
        "from pyspark.sql.functions import col\n",
        "\n",
        "df = spark.read.csv('/content/dataset', header=True, inferSchema=True)\n",
        "df = df.dropDuplicates()\n",
        "df = df.na.drop(subset=[\"nama\"])\n",
        "df = df.fillna({'email': 'Unknown'})\n",
        "df = df.withColumn('umur', col('umur').cast('int'))\n",
        "df.show(100)"
      ]
    },
    {
      "cell_type": "code",
      "execution_count": 12,
      "metadata": {
        "colab": {
          "base_uri": "https://localhost:8080/"
        },
        "id": "oAYW1LVH2K9-",
        "outputId": "097d003c-d42d-4d61-93fa-da417ec67cd3"
      },
      "outputs": [
        {
          "name": "stdout",
          "output_type": "stream",
          "text": [
            "+---------+--------------------+----+----------+-----------------+----------+---------------+\n",
            "|     Nama|               Email|Umur|Pendapatan|Tanggal Pembelian|    Produk|Nilai Transaksi|\n",
            "+---------+--------------------+----+----------+-----------------+----------+---------------+\n",
            "|     Mike|owensrobert@hotma...|  59|3741985672|       11/28/2004|    Laptop|        7711290|\n",
            "|  Cynthia|lonnieandrews@cis...|  49|   5139026|       02/10/2000|   Tablett|        2393089|\n",
            "|   Debbie| allison19@yahoo.com|  41|4974434132|       24-04-1982|Headphonee|        7488725|\n",
            "|   Rachel|jjenkins@osborne....|  66|   6422484|       02-08-1993| Smartwach|        5974942|\n",
            "|     Sean|ronald86(at)email...|  43|   7309258|       09/21/2020|    Laptop|        6997815|\n",
            "|   Amanda|melissa50@hotmail...|  45|   4765981|       13-06-2014|Smartwatch|        2110772|\n",
            "|   Robert| jason16@hotmail.com|  31|   6167831|       05/31/1972| Handphone|        4166003|\n",
            "|    James|angela86@hernande...|  21|1750047896|       07/07/1970|    Laptop|        8695785|\n",
            "|    Aaron|scottjacqueline@l...|  49|3087774620|       08/20/1983|    Laptop|        6703858|\n",
            "|   Sydney|thomaskrause@mart...|  24|4306503420|       02-10-2012|  Handpone|        6225011|\n",
            "|   Lauren|michaelsharp@clar...|  26|3607884820|       11/13/2019|    Laptop|        6547810|\n",
            "|    Sheri|arnoldbrett@selle...|  29|2488026821|       08/13/1975| Headphone|        3068588|\n",
            "|   Morgan|richardsonjonatho...|  68|1529920627|       11/10/2009|    Tablet|        7892866|\n",
            "|    Craig|austinbaldwin@hot...|  36|   3052819|       13-08-2022|Smartwatch|        8981630|\n",
            "|   Walter|    sara87@gmail.com|  19|   9751624|       11/07/2015| Handphone|        7111386|\n",
            "|    Bryan|williamsanthony@y...|  65|2091586467|       24-12-1988| Headphone|        9385903|\n",
            "|Elizabeth|tylerfinley@yahoo...|  37|   9120819|       02/18/2015|  Handpone|        6390568|\n",
            "|    Bobby|isimpson@brown-se...|  69|3154243087|       02/17/1997|    Tablet|        8673469|\n",
            "|  Shannon|cesardoyle(at)ema...|  48|   7502984|       14-04-2022|Smartwatch|        8353152|\n",
            "|     Rita|osbornejulie@gmai...|  46|   4801131|       01/03/2009| Headphone|        4287524|\n",
            "+---------+--------------------+----+----------+-----------------+----------+---------------+\n",
            "only showing top 20 rows\n",
            "\n"
          ]
        }
      ],
      "source": [
        "from pyspark.sql.functions import col\n",
        "\n",
        "df = df.withColumn(\"Umur\", col(\"Umur\").cast(\"int\"))\n",
        "df = df.filter(col('Umur') !=200)\n",
        "df = df.fillna({\"Umur\": 0})\n",
        "\n",
        "df.show()"
      ]
    },
    {
      "cell_type": "code",
      "execution_count": 13,
      "metadata": {
        "colab": {
          "base_uri": "https://localhost:8080/"
        },
        "id": "Uz969RE_2TO1",
        "outputId": "7fbc008f-55eb-4b44-940a-3b9e3d58526c"
      },
      "outputs": [
        {
          "name": "stdout",
          "output_type": "stream",
          "text": [
            "+---------+--------------------+----+----------+-----------------+----------+---------------+\n",
            "|     Nama|               Email|Umur|Pendapatan|Tanggal Pembelian|    Produk|Nilai Transaksi|\n",
            "+---------+--------------------+----+----------+-----------------+----------+---------------+\n",
            "|     Mike|owensrobert@hotma...|  59|3741985672|       2004-11-28|    Laptop|        7711290|\n",
            "|  Cynthia|lonnieandrews@cis...|  49|   5139026|       2000-02-10|   Tablett|        2393089|\n",
            "|   Debbie| allison19@yahoo.com|  41|4974434132|       1982-04-24|Headphonee|        7488725|\n",
            "|   Rachel|jjenkins@osborne....|  66|   6422484|       1993-08-02| Smartwach|        5974942|\n",
            "|     Sean|ronald86(at)email...|  43|   7309258|       2020-09-21|    Laptop|        6997815|\n",
            "|   Amanda|melissa50@hotmail...|  45|   4765981|       2014-06-13|Smartwatch|        2110772|\n",
            "|   Robert| jason16@hotmail.com|  31|   6167831|       1972-05-31| Handphone|        4166003|\n",
            "|    James|angela86@hernande...|  21|1750047896|       1970-07-07|    Laptop|        8695785|\n",
            "|    Aaron|scottjacqueline@l...|  49|3087774620|       1983-08-20|    Laptop|        6703858|\n",
            "|   Sydney|thomaskrause@mart...|  24|4306503420|       2012-10-02|  Handpone|        6225011|\n",
            "|   Lauren|michaelsharp@clar...|  26|3607884820|       2019-11-13|    Laptop|        6547810|\n",
            "|    Sheri|arnoldbrett@selle...|  29|2488026821|       1975-08-13| Headphone|        3068588|\n",
            "|   Morgan|richardsonjonatho...|  68|1529920627|       2009-11-10|    Tablet|        7892866|\n",
            "|    Craig|austinbaldwin@hot...|  36|   3052819|       2022-08-13|Smartwatch|        8981630|\n",
            "|   Walter|    sara87@gmail.com|  19|   9751624|       2015-11-07| Handphone|        7111386|\n",
            "|    Bryan|williamsanthony@y...|  65|2091586467|       1988-12-24| Headphone|        9385903|\n",
            "|Elizabeth|tylerfinley@yahoo...|  37|   9120819|       2015-02-18|  Handpone|        6390568|\n",
            "|    Bobby|isimpson@brown-se...|  69|3154243087|       1997-02-17|    Tablet|        8673469|\n",
            "|  Shannon|cesardoyle(at)ema...|  48|   7502984|       2022-04-14|Smartwatch|        8353152|\n",
            "|     Rita|osbornejulie@gmai...|  46|   4801131|       2009-01-03| Headphone|        4287524|\n",
            "+---------+--------------------+----+----------+-----------------+----------+---------------+\n",
            "only showing top 20 rows\n",
            "\n"
          ]
        }
      ],
      "source": [
        "from pyspark.sql.functions import col, when, to_date\n",
        "\n",
        "df = df.withColumn(\"Tanggal Pembelian\",\n",
        "    when(col(\"Tanggal Pembelian\").rlike(r\"\\d{2}/\\d{2}/\\d{4}\"),\n",
        "         to_date(col(\"Tanggal Pembelian\"), \"MM/dd/yyyy\"))\n",
        "    .otherwise(to_date(col(\"Tanggal Pembelian\"), \"dd-MM-yyyy\"))\n",
        ")\n",
        "\n",
        "df.show()"
      ]
    },
    {
      "cell_type": "code",
      "execution_count": 15,
      "metadata": {
        "colab": {
          "base_uri": "https://localhost:8080/"
        },
        "id": "HsrjkZGKDGjm",
        "outputId": "31b6e1ce-d0e5-41e9-a8bf-66f70dd279a0"
      },
      "outputs": [
        {
          "name": "stdout",
          "output_type": "stream",
          "text": [
            "+---------+--------------------+----+----------+-----------------+----------+---------------+\n",
            "|     Nama|               Email|Umur|Pendapatan|Tanggal Pembelian|    Produk|Nilai Transaksi|\n",
            "+---------+--------------------+----+----------+-----------------+----------+---------------+\n",
            "|     Mike|owensrobert@hotma...|  59|3741985672|       2004-11-28|    Laptop|        7711290|\n",
            "|  Cynthia|lonnieandrews@cis...|  49|   5139026|       2000-02-10|    Tablet|        2393089|\n",
            "|   Debbie| allison19@yahoo.com|  41|4974434132|       1982-04-24| Headphone|        7488725|\n",
            "|   Rachel|jjenkins@osborne....|  66|   6422484|       1993-08-02| Smartwach|        5974942|\n",
            "|     Sean|ronald86(at)email...|  43|   7309258|       2020-09-21|    Laptop|        6997815|\n",
            "|   Amanda|melissa50@hotmail...|  45|   4765981|       2014-06-13|Smartwatch|        2110772|\n",
            "|   Robert| jason16@hotmail.com|  31|   6167831|       1972-05-31| Handphone|        4166003|\n",
            "|    James|angela86@hernande...|  21|1750047896|       1970-07-07|    Laptop|        8695785|\n",
            "|    Aaron|scottjacqueline@l...|  49|3087774620|       1983-08-20|    Laptop|        6703858|\n",
            "|   Sydney|thomaskrause@mart...|  24|4306503420|       2012-10-02| Handphone|        6225011|\n",
            "|   Lauren|michaelsharp@clar...|  26|3607884820|       2019-11-13|    Laptop|        6547810|\n",
            "|    Sheri|arnoldbrett@selle...|  29|2488026821|       1975-08-13| Headphone|        3068588|\n",
            "|   Morgan|richardsonjonatho...|  68|1529920627|       2009-11-10|    Tablet|        7892866|\n",
            "|    Craig|austinbaldwin@hot...|  36|   3052819|       2022-08-13|Smartwatch|        8981630|\n",
            "|   Walter|    sara87@gmail.com|  19|   9751624|       2015-11-07| Handphone|        7111386|\n",
            "|    Bryan|williamsanthony@y...|  65|2091586467|       1988-12-24| Headphone|        9385903|\n",
            "|Elizabeth|tylerfinley@yahoo...|  37|   9120819|       2015-02-18| Handphone|        6390568|\n",
            "|    Bobby|isimpson@brown-se...|  69|3154243087|       1997-02-17|    Tablet|        8673469|\n",
            "|  Shannon|cesardoyle(at)ema...|  48|   7502984|       2022-04-14|Smartwatch|        8353152|\n",
            "|     Rita|osbornejulie@gmai...|  46|   4801131|       2009-01-03| Headphone|        4287524|\n",
            "+---------+--------------------+----+----------+-----------------+----------+---------------+\n",
            "only showing top 20 rows\n",
            "\n"
          ]
        }
      ],
      "source": [
        "from pyspark.sql.functions import regexp_replace\n",
        "\n",
        "df = df.withColumn(\"Produk\",\n",
        "    regexp_replace(\"Produk\", \"Handpone\", \"Handphone\"))\n",
        "df = df.withColumn(\"Produk\",\n",
        "    regexp_replace(\"Produk\", \"Tablett\", \"Tablet\"))\n",
        "df = df.withColumn(\"Produk\",\n",
        "    regexp_replace(\"Produk\", \"Headphonee\", \"Headphone\"))\n",
        "\n",
        "df.show()"
      ]
    },
    {
      "cell_type": "code",
      "execution_count": 24,
      "metadata": {
        "colab": {
          "base_uri": "https://localhost:8080/"
        },
        "id": "OBpi9MrADTpv",
        "outputId": "eeb4a04c-a7c6-4668-db7d-7a9061e8ba58"
      },
      "outputs": [
        {
          "name": "stdout",
          "output_type": "stream",
          "text": [
            "+---------+--------------------+----+----------+-----------------+----------+---------------+\n",
            "|     Nama|               Email|Umur|Pendapatan|Tanggal Pembelian|    Produk|Nilai Transaksi|\n",
            "+---------+--------------------+----+----------+-----------------+----------+---------------+\n",
            "|     Mike|owensrobert@hotma...|  59|3741985672|       2004-11-28|    Laptop|        7711290|\n",
            "|  Cynthia|lonnieandrews@cis...|  49|   5139026|       2000-02-10|    Tablet|        2393089|\n",
            "|   Debbie| allison19@yahoo.com|  41|4974434132|       1982-04-24| Headphone|        7488725|\n",
            "|   Rachel|jjenkins@osborne....|  66|   6422484|       1993-08-02| Smartwach|        5974942|\n",
            "|     Sean|ronald86(@)email.com|  43|   7309258|       2020-09-21|    Laptop|        6997815|\n",
            "|   Amanda|melissa50@hotmail...|  45|   4765981|       2014-06-13|Smartwatch|        2110772|\n",
            "|   Robert| jason16@hotmail.com|  31|   6167831|       1972-05-31| Handphone|        4166003|\n",
            "|    James|angela86@hernande...|  21|1750047896|       1970-07-07|    Laptop|        8695785|\n",
            "|    Aaron|scottjacqueline@l...|  49|3087774620|       1983-08-20|    Laptop|        6703858|\n",
            "|   Sydney|thomaskrause@mart...|  24|4306503420|       2012-10-02| Handphone|        6225011|\n",
            "|   Lauren|michaelsharp@clar...|  26|3607884820|       2019-11-13|    Laptop|        6547810|\n",
            "|    Sheri|arnoldbrett@selle...|  29|2488026821|       1975-08-13| Headphone|        3068588|\n",
            "|   Morgan|richardsonjon@hon...|  68|1529920627|       2009-11-10|    Tablet|        7892866|\n",
            "|    Craig|austinbaldwin@hot...|  36|   3052819|       2022-08-13|Smartwatch|        8981630|\n",
            "|   Walter|    sara87@gmail.com|  19|   9751624|       2015-11-07| Handphone|        7111386|\n",
            "|    Bryan|williamsanthony@y...|  65|2091586467|       1988-12-24| Headphone|        9385903|\n",
            "|Elizabeth|tylerfinley@yahoo...|  37|   9120819|       2015-02-18| Handphone|        6390568|\n",
            "|    Bobby|isimpson@brown-se...|  69|3154243087|       1997-02-17|    Tablet|        8673469|\n",
            "|  Shannon|cesardoyle(@)emai...|  48|   7502984|       2022-04-14|Smartwatch|        8353152|\n",
            "|     Rita|osbornejulie@gmai...|  46|   4801131|       2009-01-03| Headphone|        4287524|\n",
            "+---------+--------------------+----+----------+-----------------+----------+---------------+\n",
            "only showing top 20 rows\n",
            "\n"
          ]
        }
      ],
      "source": [
        "from pyspark.sql.functions import regexp_replace\n",
        "\n",
        "df = df.withColumn(\"Email\", regexp_replace(\"Email\", r\"\\s*at\\s*|\\s+at\\s+|at\", \"@\"))\n",
        "\n",
        "df.show()"
      ]
    },
    {
      "cell_type": "code",
      "execution_count": 28,
      "metadata": {
        "colab": {
          "base_uri": "https://localhost:8080/"
        },
        "id": "6USN3wANEo7I",
        "outputId": "ffc0f034-cdfa-4e1e-f1eb-ea0596ef1702"
      },
      "outputs": [
        {
          "name": "stdout",
          "output_type": "stream",
          "text": [
            "+---------+--------------------+----+----------+-----------------+----------+---------------+\n",
            "|     Nama|               Email|Umur|Pendapatan|Tanggal Pembelian|    Produk|Nilai Transaksi|\n",
            "+---------+--------------------+----+----------+-----------------+----------+---------------+\n",
            "|     Mike|owensrobert@hotma...|  59|3741985672|       2004-11-28|    Laptop|        7711290|\n",
            "|  Cynthia|lonnieandrews@cis...|  49|   5139026|       2000-02-10|    Tablet|        2393089|\n",
            "|   Debbie| allison19@yahoo.com|  41|4974434132|       1982-04-24| Headphone|        7488725|\n",
            "|   Rachel|jjenkins@osborne....|  66|   6422484|       1993-08-02| Smartwach|        5974942|\n",
            "|     Sean|ronald86(@)email.com|  43|   7309258|       2020-09-21|    Laptop|        6997815|\n",
            "|   Amanda|melissa50@hotmail...|  45|   4765981|       2014-06-13|Smartwatch|        2110772|\n",
            "|   Robert| jason16@hotmail.com|  31|   6167831|       1972-05-31| Handphone|        4166003|\n",
            "|    James|angela86@hernande...|  21|1750047896|       1970-07-07|    Laptop|        8695785|\n",
            "|    Aaron|scottjacqueline@l...|  49|3087774620|       1983-08-20|    Laptop|        6703858|\n",
            "|   Sydney|thomaskrause@mart...|  24|4306503420|       2012-10-02| Handphone|        6225011|\n",
            "|   Lauren|michaelsharp@clar...|  26|3607884820|       2019-11-13|    Laptop|        6547810|\n",
            "|    Sheri|arnoldbrett@selle...|  29|2488026821|       1975-08-13| Headphone|        3068588|\n",
            "|   Morgan|richardsonjon@hon...|  68|1529920627|       2009-11-10|    Tablet|        7892866|\n",
            "|    Craig|austinbaldwin@hot...|  36|   3052819|       2022-08-13|Smartwatch|        8981630|\n",
            "|   Walter|    sara87@gmail.com|  19|   9751624|       2015-11-07| Handphone|        7111386|\n",
            "|    Bryan|williamsanthony@y...|  65|2091586467|       1988-12-24| Headphone|        9385903|\n",
            "|Elizabeth|tylerfinley@yahoo...|  37|   9120819|       2015-02-18| Handphone|        6390568|\n",
            "|    Bobby|isimpson@brown-se...|  69|3154243087|       1997-02-17|    Tablet|        8673469|\n",
            "|  Shannon|cesardoyle(@)emai...|  48|   7502984|       2022-04-14|Smartwatch|        8353152|\n",
            "|     Rita|osbornejulie@gmai...|  46|   4801131|       2009-01-03| Headphone|        4287524|\n",
            "|   Pamela|megancosta@yahoo.com|  39|4743642660|       2011-08-16|    Laptop|        8043250|\n",
            "|    Amber|michaelarmstrong@...|  41|   4764594|       1976-12-15| Headphone|        3312777|\n",
            "|    Peter|fordwilliam@ellio...|  49|   5655666|       1981-12-21|    Laptop|        9968161|\n",
            "|  Matthew|jessicahall@yahoo...|  32|3359452666|       2000-05-22| Headphone|        7317635|\n",
            "|   Shelly|johngoodwin@perry...|  65|1503571524|       2002-06-21| Handphone|        2021118|\n",
            "|   Daniel|   jsmith@meyer.info|  63|   8029197|       1988-09-07| Handphone|        3359641|\n",
            "|   Calvin| andre49@hotmail.com|  40|2575808578|       1973-08-29|Smartwatch|        2496871|\n",
            "|    Bryan|guerreronicolas@h...|  49|   6816341|       1993-02-19| Handphone|        8766162|\n",
            "|  Heather| dlandry(@)email.com|  57|   9980884|       1986-01-20| Handphone|        7553960|\n",
            "|  Anthony|   dawnday@gmail.com|  24|   3553265|       1974-01-13|    Laptop|        2736049|\n",
            "|  Rebecca| linlaurie@yahoo.com|  34|2454478778|       1971-10-05|    Tablet|        2256555|\n",
            "|    James|  john19(@)email.com|  42|3457646809|       1993-06-10| Smartwach|        3305087|\n",
            "|  Matthew|davidwilliams@bro...|  70|1185314610|       2014-11-27| Handphone|        6017027|\n",
            "|     Tara| amanda77@stuart.com|  37|3417336527|       1989-10-22| Headphone|        6370142|\n",
            "|  Patrick|zthompson@hotmail...|  59|   6705425|       2023-12-01|    Laptop|        9079604|\n",
            "|   Jeremy|steelesylvia@case...|  63|3349757081|       1995-12-14|    Laptop|        7855360|\n",
            "|   Thomas|michelefernandez@...|  36|   7748933|       2005-08-03| Handphone|        2826983|\n",
            "|    Jared| qwiggins@hodges.com|  69|   8024480|       2005-01-02|    Tablet|        3093351|\n",
            "|   Joanna|   pwalker@gmail.com|  67|   5748244|       2010-11-19| Handphone|        3906783|\n",
            "+---------+--------------------+----+----------+-----------------+----------+---------------+\n",
            "\n"
          ]
        }
      ],
      "source": [
        "df.write.csv('data_transaksi_clean.csv', header=True, mode='overwrite')\n",
        "df.show(100)"
      ]
    }
  ],
  "metadata": {
    "colab": {
      "provenance": []
    },
    "kernelspec": {
      "display_name": "Python 3",
      "name": "python3"
    },
    "language_info": {
      "name": "python"
    }
  },
  "nbformat": 4,
  "nbformat_minor": 0
}
